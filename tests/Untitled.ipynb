{
 "cells": [
  {
   "cell_type": "code",
   "execution_count": 1,
   "id": "18636596-151b-430c-933b-bf5c79da13ff",
   "metadata": {},
   "outputs": [],
   "source": [
    "import jpype"
   ]
  },
  {
   "cell_type": "code",
   "execution_count": 2,
   "id": "ba7a97ee-87d4-4b5b-a6b4-bc64978b52ef",
   "metadata": {},
   "outputs": [],
   "source": [
    "import pynetlogo"
   ]
  },
  {
   "cell_type": "code",
   "execution_count": 3,
   "id": "c94a74b2-b505-4177-a358-09db5a29515c",
   "metadata": {},
   "outputs": [
    {
     "data": {
      "text/plain": [
       "'/Applications/NetLogo 6.3.0'"
      ]
     },
     "execution_count": 3,
     "metadata": {},
     "output_type": "execute_result"
    }
   ],
   "source": [
    "netlogo_home = pynetlogo.core.find_netlogo_mac()\n",
    "netlogo_home"
   ]
  },
  {
   "cell_type": "code",
   "execution_count": 5,
   "id": "e92e647a-8177-4b03-a0f0-470859b18a7a",
   "metadata": {},
   "outputs": [],
   "source": [
    "jars = pynetlogo.core.find_jars(netlogo_home)"
   ]
  },
  {
   "cell_type": "code",
   "execution_count": 6,
   "id": "4a43c7b6-475c-47d1-b996-90b4b035b8fa",
   "metadata": {},
   "outputs": [],
   "source": [
    "import os\n",
    "\n",
    "jars.append(os.path.abspath(\"test.jar\"))"
   ]
  },
  {
   "cell_type": "code",
   "execution_count": 12,
   "id": "1613b5bd-eae8-42bc-96bf-95081e968f48",
   "metadata": {},
   "outputs": [],
   "source": []
  },
  {
   "cell_type": "code",
   "execution_count": 7,
   "id": "6edbea12-a250-4de1-8709-f9427258cf66",
   "metadata": {},
   "outputs": [],
   "source": [
    "jvm_path = \"/Users/jhkwakkel/Downloads/jdk-19.0.2.jdk/Contents/MacOS/libjli.dylib\"\n",
    "jpype.startJVM(jvm_path, classpath=jars)"
   ]
  },
  {
   "cell_type": "code",
   "execution_count": 12,
   "id": "32d5e25d-0e86-4a38-afad-98ea9d532df0",
   "metadata": {},
   "outputs": [
    {
     "data": {
      "text/plain": [
       "<java class 'netLogoLink.NetLogoLink'>"
      ]
     },
     "execution_count": 12,
     "metadata": {},
     "output_type": "execute_result"
    }
   ],
   "source": [
    "jpype.JClass(\"netLogoLink.NetLogoLink\")"
   ]
  },
  {
   "cell_type": "code",
   "execution_count": 10,
   "id": "186163b0-7f66-4682-a585-f53fa5f1e420",
   "metadata": {},
   "outputs": [],
   "source": [
    "import jpype.imports"
   ]
  },
  {
   "cell_type": "code",
   "execution_count": 14,
   "id": "6966991d-dd2b-4d51-912f-480f30e7fed3",
   "metadata": {},
   "outputs": [],
   "source": [
    "from netLogoLink import NetLogoLink"
   ]
  },
  {
   "cell_type": "code",
   "execution_count": 15,
   "id": "c61ff7ea-f334-4255-85b6-5c5c9b54ef20",
   "metadata": {},
   "outputs": [],
   "source": [
    "jpype.java.lang.System.setProperty(\"java.awt.headless\", \"true\")"
   ]
  },
  {
   "cell_type": "code",
   "execution_count": 17,
   "id": "c5026712-095d-484a-9403-5611c981bd70",
   "metadata": {},
   "outputs": [
    {
     "ename": "NameError",
     "evalue": "name 'gui' is not defined",
     "output_type": "error",
     "traceback": [
      "\u001b[0;31m---------------------------------------------------------------------------\u001b[0m",
      "\u001b[0;31mNameError\u001b[0m                                 Traceback (most recent call last)",
      "Cell \u001b[0;32mIn[17], line 1\u001b[0m\n\u001b[0;32m----> 1\u001b[0m link \u001b[38;5;241m=\u001b[39m NetLogoLink(jpype\u001b[38;5;241m.\u001b[39mjava\u001b[38;5;241m.\u001b[39mlang\u001b[38;5;241m.\u001b[39mBoolean(\u001b[43mgui\u001b[49m), jpype\u001b[38;5;241m.\u001b[39mjava\u001b[38;5;241m.\u001b[39mlang\u001b[38;5;241m.\u001b[39mBoolean(thd))\n",
      "\u001b[0;31mNameError\u001b[0m: name 'gui' is not defined"
     ]
    }
   ],
   "source": [
    "link = NetLogoLink(jpype.java.lang.Boolean(False), jpype.java.lang.Boolean(thd))"
   ]
  },
  {
   "cell_type": "code",
   "execution_count": 2,
   "id": "1328f6d1-633a-4587-85da-470905ed0228",
   "metadata": {},
   "outputs": [
    {
     "data": {
      "text/plain": [
       "\u001b[0;31mSignature:\u001b[0m \u001b[0mjpype\u001b[0m\u001b[0;34m.\u001b[0m\u001b[0mstartJVM\u001b[0m\u001b[0;34m(\u001b[0m\u001b[0;34m*\u001b[0m\u001b[0margs\u001b[0m\u001b[0;34m,\u001b[0m \u001b[0;34m**\u001b[0m\u001b[0mkwargs\u001b[0m\u001b[0;34m)\u001b[0m\u001b[0;34m\u001b[0m\u001b[0;34m\u001b[0m\u001b[0m\n",
       "\u001b[0;31mDocstring:\u001b[0m\n",
       "Starts a Java Virtual Machine.  Without options it will start\n",
       "the JVM with the default classpath and jvmpath.\n",
       "\n",
       "The default classpath is determined by ``jpype.getClassPath()``.\n",
       "The default jvmpath is determined by ``jpype.getDefaultJVMPath()``.\n",
       "\n",
       "Parameters:\n",
       " *args (Optional, str[]): Arguments to give to the JVM.\n",
       "    The first argument may be the path the JVM.\n",
       "\n",
       "Keyword Arguments:\n",
       "  jvmpath (str):  Path to the jvm library file,\n",
       "    Typically one of (``libjvm.so``, ``jvm.dll``, ...)\n",
       "    Using None will apply the default jvmpath.\n",
       "  classpath (str,[str]): Set the classpath for the JVM.\n",
       "    This will override any classpath supplied in the arguments\n",
       "    list. A value of None will give no classpath to JVM.\n",
       "  ignoreUnrecognized (bool): Option to ignore\n",
       "    invalid JVM arguments. Default is False.\n",
       "  convertStrings (bool): Option to force Java strings to\n",
       "    cast to Python strings. This option is to support legacy code\n",
       "    for which conversion of Python strings was the default. This\n",
       "    will globally change the behavior of all calls using\n",
       "    strings, and a value of True is NOT recommended for newly\n",
       "    developed code.\n",
       "  interrupt (bool): Option to install ^C signal handlers.\n",
       "    If True then ^C will stop the process, else ^C will\n",
       "    transfer control to Python rather than halting.  If\n",
       "    not specified will be False if Python is started as\n",
       "    an interactive shell.\n",
       "\n",
       "Raises:\n",
       "  OSError: if the JVM cannot be started or is already running.\n",
       "  TypeError: if an invalid keyword argument is supplied\n",
       "    or a keyword argument conflicts with the arguments.\n",
       "\n",
       " \n",
       "\u001b[0;31mFile:\u001b[0m      ~/opt/anaconda3/lib/python3.9/site-packages/jpype/_core.py\n",
       "\u001b[0;31mType:\u001b[0m      function"
      ]
     },
     "metadata": {},
     "output_type": "display_data"
    }
   ],
   "source": [
    "?jpype.startJVM"
   ]
  },
  {
   "cell_type": "code",
   "execution_count": null,
   "id": "3b19d32f-8bd3-4ff1-9248-b904d00cfb33",
   "metadata": {},
   "outputs": [],
   "source": []
  }
 ],
 "metadata": {
  "kernelspec": {
   "display_name": "Python 3 (ipykernel)",
   "language": "python",
   "name": "python3"
  },
  "language_info": {
   "codemirror_mode": {
    "name": "ipython",
    "version": 3
   },
   "file_extension": ".py",
   "mimetype": "text/x-python",
   "name": "python",
   "nbconvert_exporter": "python",
   "pygments_lexer": "ipython3",
   "version": "3.9.16"
  }
 },
 "nbformat": 4,
 "nbformat_minor": 5
}
