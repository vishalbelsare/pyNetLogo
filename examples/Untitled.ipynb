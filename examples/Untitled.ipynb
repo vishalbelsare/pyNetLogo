{
 "cells": [
  {
   "cell_type": "code",
   "execution_count": 1,
   "id": "72bfa6af-0881-4242-b88d-75c295e65d20",
   "metadata": {},
   "outputs": [],
   "source": [
    "%matplotlib inline\n",
    "\n",
    "import numpy as np\n",
    "import pandas as pd\n",
    "import matplotlib.pyplot as plt\n",
    "import seaborn as sns\n",
    "\n",
    "import pyNetLogo"
   ]
  },
  {
   "cell_type": "code",
   "execution_count": 2,
   "id": "9444663a-98ee-42de-89e1-d08c06166205",
   "metadata": {},
   "outputs": [],
   "source": [
    "import os\n",
    "\n",
    "netlogo = pyNetLogo.NetLogoLink(gui=False)\n",
    "model_file = os.path.join(\n",
    "    netlogo.netlogo_home, \"models/Sample Models/Biology/Wolf Sheep Predation.nlogo\"\n",
    ")\n",
    "netlogo.load_model(model_file)"
   ]
  },
  {
   "cell_type": "code",
   "execution_count": 5,
   "id": "9f416089-43a7-4fd8-8d52-78120274082f",
   "metadata": {},
   "outputs": [
    {
     "name": "stdout",
     "output_type": "stream",
     "text": [
      "100.0\n"
     ]
    },
    {
     "data": {
      "text/plain": [
       "[105.0,\n",
       " 109.0,\n",
       " 113.0,\n",
       " 114.0,\n",
       " 119.0,\n",
       " 122.0,\n",
       " 125.0,\n",
       " 127.0,\n",
       " 127.0,\n",
       " 126.0,\n",
       " 129.0,\n",
       " 131.0,\n",
       " 137.0,\n",
       " 144.0,\n",
       " 146.0,\n",
       " 152.0,\n",
       " 162.0,\n",
       " 165.0,\n",
       " 175.0,\n",
       " 179.0,\n",
       " 184.0,\n",
       " 191.0,\n",
       " 195.0,\n",
       " 207.0,\n",
       " 214.0,\n",
       " 218.0,\n",
       " 220.0,\n",
       " 225.0,\n",
       " 225.0,\n",
       " 235.0,\n",
       " 246.0,\n",
       " 247.0,\n",
       " 255.0,\n",
       " 262.0,\n",
       " 268.0,\n",
       " 272.0,\n",
       " 281.0,\n",
       " 289.0,\n",
       " 296.0,\n",
       " 301.0,\n",
       " 311.0,\n",
       " 324.0,\n",
       " 338.0,\n",
       " 347.0,\n",
       " 358.0,\n",
       " 365.0,\n",
       " 374.0,\n",
       " 391.0,\n",
       " 394.0,\n",
       " 402.0,\n",
       " 412.0,\n",
       " 421.0,\n",
       " 432.0,\n",
       " 451.0,\n",
       " 463.0,\n",
       " 465.0,\n",
       " 481.0,\n",
       " 490.0,\n",
       " 503.0,\n",
       " 513.0,\n",
       " 522.0,\n",
       " 547.0,\n",
       " 550.0,\n",
       " 560.0,\n",
       " 575.0,\n",
       " 591.0,\n",
       " 605.0,\n",
       " 616.0,\n",
       " 620.0,\n",
       " 633.0,\n",
       " 647.0,\n",
       " 662.0,\n",
       " 669.0,\n",
       " 691.0,\n",
       " 695.0,\n",
       " 686.0,\n",
       " 687.0,\n",
       " 690.0,\n",
       " 696.0,\n",
       " 709.0,\n",
       " 712.0,\n",
       " 716.0,\n",
       " 717.0,\n",
       " 705.0,\n",
       " 702.0,\n",
       " 702.0,\n",
       " 710.0,\n",
       " 710.0,\n",
       " 710.0,\n",
       " 706.0,\n",
       " 701.0,\n",
       " 692.0,\n",
       " 679.0,\n",
       " 662.0,\n",
       " 641.0,\n",
       " 634.0,\n",
       " 626.0,\n",
       " 611.0,\n",
       " 599.0,\n",
       " 566.0,\n",
       " 549.0,\n",
       " 534.0,\n",
       " 518.0,\n",
       " 486.0,\n",
       " 449.0,\n",
       " 413.0,\n",
       " 377.0,\n",
       " 344.0,\n",
       " 312.0,\n",
       " 290.0,\n",
       " 265.0,\n",
       " 242.0,\n",
       " 219.0,\n",
       " 199.0,\n",
       " 184.0,\n",
       " 160.0,\n",
       " 138.0,\n",
       " 114.0,\n",
       " 100.0,\n",
       " 87.0]"
      ]
     },
     "execution_count": 5,
     "metadata": {},
     "output_type": "execute_result"
    }
   ],
   "source": [
    "netlogo.command(\"setup\")\n",
    "print(netlogo.report(\"count sheep\"))\n",
    "netlogo.report_while(\"count sheep\", \"count sheep >= 100\", max_seconds=5)"
   ]
  },
  {
   "cell_type": "code",
   "execution_count": null,
   "id": "97140916-5d89-4a3d-a759-2122112f0604",
   "metadata": {},
   "outputs": [
    {
     "name": "stdout",
     "output_type": "stream",
     "text": [
      "> \u001b[0;32m/Users/jhkwakkel/Documents/GitHub/pyNetLogo/pyNetLogo/core.py\u001b[0m(735)\u001b[0;36mtype_convert\u001b[0;34m()\u001b[0m\n",
      "\u001b[0;32m    733 \u001b[0;31m    Python datatypes'''\n",
      "\u001b[0m\u001b[0;32m    734 \u001b[0;31m\u001b[0;34m\u001b[0m\u001b[0m\n",
      "\u001b[0m\u001b[0;32m--> 735 \u001b[0;31m    \u001b[0mjava_dtype\u001b[0m \u001b[0;34m=\u001b[0m \u001b[0mstr\u001b[0m\u001b[0;34m(\u001b[0m\u001b[0mresults\u001b[0m\u001b[0;34m.\u001b[0m\u001b[0mgetType\u001b[0m\u001b[0;34m(\u001b[0m\u001b[0;34m)\u001b[0m\u001b[0;34m)\u001b[0m\u001b[0;34m\u001b[0m\u001b[0;34m\u001b[0m\u001b[0m\n",
      "\u001b[0m\u001b[0;32m    736 \u001b[0;31m\u001b[0;34m\u001b[0m\u001b[0m\n",
      "\u001b[0m\u001b[0;32m    737 \u001b[0;31m    \u001b[0;32mif\u001b[0m \u001b[0mjava_dtype\u001b[0m \u001b[0;34m==\u001b[0m \u001b[0;34m\"Boolean\"\u001b[0m\u001b[0;34m:\u001b[0m\u001b[0;34m\u001b[0m\u001b[0;34m\u001b[0m\u001b[0m\n",
      "\u001b[0m\n"
     ]
    },
    {
     "name": "stdin",
     "output_type": "stream",
     "text": [
      "ipdb>  len(results)\n"
     ]
    },
    {
     "name": "stdout",
     "output_type": "stream",
     "text": [
      "2\n"
     ]
    },
    {
     "name": "stdin",
     "output_type": "stream",
     "text": [
      "ipdb>  results[0]\n"
     ]
    },
    {
     "name": "stdout",
     "output_type": "stream",
     "text": [
      "<java object 'NetLogoLinkV61.NLResult'>\n"
     ]
    },
    {
     "name": "stdin",
     "output_type": "stream",
     "text": [
      "ipdb>  u\n"
     ]
    },
    {
     "name": "stdout",
     "output_type": "stream",
     "text": [
      "> \u001b[0;32m/Users/jhkwakkel/Documents/GitHub/pyNetLogo/pyNetLogo/core.py\u001b[0m(726)\u001b[0;36m_cast_results\u001b[0;34m()\u001b[0m\n",
      "\u001b[0;32m    724 \u001b[0;31m            \u001b[0mconverted_results\u001b[0m \u001b[0;34m=\u001b[0m \u001b[0;34m[\u001b[0m\u001b[0;34m]\u001b[0m\u001b[0;34m\u001b[0m\u001b[0;34m\u001b[0m\u001b[0m\n",
      "\u001b[0m\u001b[0;32m    725 \u001b[0;31m            \u001b[0;32mfor\u001b[0m \u001b[0mi\u001b[0m \u001b[0;32min\u001b[0m \u001b[0mresults\u001b[0m\u001b[0;34m:\u001b[0m\u001b[0;34m\u001b[0m\u001b[0;34m\u001b[0m\u001b[0m\n",
      "\u001b[0m\u001b[0;32m--> 726 \u001b[0;31m                \u001b[0mconverted_results\u001b[0m\u001b[0;34m.\u001b[0m\u001b[0mappend\u001b[0m\u001b[0;34m(\u001b[0m\u001b[0mtype_convert\u001b[0m\u001b[0;34m(\u001b[0m\u001b[0mi\u001b[0m\u001b[0;34m)\u001b[0m\u001b[0;34m)\u001b[0m\u001b[0;34m\u001b[0m\u001b[0;34m\u001b[0m\u001b[0m\n",
      "\u001b[0m\u001b[0;32m    727 \u001b[0;31m\u001b[0;34m\u001b[0m\u001b[0m\n",
      "\u001b[0m\u001b[0;32m    728 \u001b[0;31m        \u001b[0;32mreturn\u001b[0m \u001b[0mconverted_results\u001b[0m\u001b[0;34m\u001b[0m\u001b[0;34m\u001b[0m\u001b[0m\n",
      "\u001b[0m\n"
     ]
    },
    {
     "name": "stdin",
     "output_type": "stream",
     "text": [
      "ipdb>  len(results)\n"
     ]
    },
    {
     "name": "stdout",
     "output_type": "stream",
     "text": [
      "121\n",
      "--KeyboardInterrupt--\n"
     ]
    }
   ],
   "source": []
  },
  {
   "cell_type": "code",
   "execution_count": 5,
   "id": "bd4fb986-caef-48bc-b667-9bfb70a7409e",
   "metadata": {},
   "outputs": [],
   "source": [
    "command = \"\"\"\n",
    "to-report test\n",
    "    report 10;\n",
    "end\n",
    "\"\"\"\n",
    "\n",
    "#     setup;\n",
    "#     let history [];\n",
    "#     repeat 10 [\n",
    "#         go;\n",
    "#         set history lput count sheep history\n",
    "#     ]\n",
    "\n",
    "\n",
    "netlogo.link.sourceFromString(command, True)"
   ]
  },
  {
   "cell_type": "code",
   "execution_count": 4,
   "id": "1bc63031-206a-4861-ac92-d156f47c246d",
   "metadata": {},
   "outputs": [
    {
     "name": "stdout",
     "output_type": "stream",
     "text": [
      "Nothing named TEST has been defined. at position 49 in \n",
      "\tat org.nlogo.core.Fail$.exception(Fail.scala:27)\n",
      "\tat org.nlogo.core.Fail$.exception(Fail.scala:25)\n",
      "\tat org.nlogo.core.Fail$.exception(Fail.scala:23)\n",
      "\tat org.nlogo.parse.ExpressionParser$.$anonfun$parseExpressionInternal$4(ExpressionParser.scala:391)\n",
      "\tat scala.Option.getOrElse(Option.scala:189)\n",
      "\tat org.nlogo.parse.ExpressionParser$.parseExpressionInternal(ExpressionParser.scala:391)\n",
      "\tat org.nlogo.parse.ExpressionParser$.parseExpression(ExpressionParser.scala:302)\n",
      "\tat org.nlogo.parse.ExpressionParser$.$anonfun$parseExpressionInternal$1(ExpressionParser.scala:358)\n",
      "\tat org.nlogo.parse.ExpressionParser$.parseParenthesized(ExpressionParser.scala:317)\n",
      "\tat org.nlogo.parse.ExpressionParser$.parseExpressionInternal(ExpressionParser.scala:363)\n",
      "\tat org.nlogo.parse.ExpressionParser$.parseArgExpression(ExpressionParser.scala:230)\n",
      "\tat org.nlogo.parse.ExpressionParser$.$anonfun$parseArguments$1(ExpressionParser.scala:166)\n",
      "\tat org.nlogo.parse.ExpressionParser$.$anonfun$parseArguments$1$adapted(ExpressionParser.scala:165)\n",
      "\tat scala.collection.immutable.Range.foreach(Range.scala:158)\n",
      "\tat org.nlogo.parse.ExpressionParser$.parseArguments(ExpressionParser.scala:165)\n",
      "\tat org.nlogo.parse.ExpressionParser$.parsePotentiallyVariadicArgumentList(ExpressionParser.scala:88)\n",
      "\tat org.nlogo.parse.ExpressionParser$.parseStatement(ExpressionParser.scala:69)\n",
      "\tat org.nlogo.parse.ExpressionParser$.$anonfun$apply$1(ExpressionParser.scala:30)\n",
      "\tat org.nlogo.parse.ExpressionParser$.parseStatements(ExpressionParser.scala:42)\n",
      "\tat org.nlogo.parse.ExpressionParser$.apply(ExpressionParser.scala:30)\n",
      "\tat org.nlogo.parse.NetLogoParser.parseProcedure(NetLogoParser.scala:45)\n",
      "\tat org.nlogo.parse.NetLogoParser.parseProcedure$(NetLogoParser.scala:29)\n",
      "\tat org.nlogo.parse.FrontEnd$.parseProcedure(FrontEnd.scala:10)\n",
      "\tat org.nlogo.parse.NetLogoParser.$anonfun$basicParse$1(NetLogoParser.scala:25)\n",
      "\tat scala.collection.TraversableLike.$anonfun$map$1(TraversableLike.scala:285)\n",
      "\tat scala.collection.Iterator.foreach(Iterator.scala:943)\n",
      "\tat scala.collection.Iterator.foreach$(Iterator.scala:943)\n",
      "\tat scala.collection.AbstractIterator.foreach(Iterator.scala:1431)\n",
      "\tat scala.collection.MapLike$DefaultValuesIterable.foreach(MapLike.scala:213)\n",
      "\tat scala.collection.TraversableLike.map(TraversableLike.scala:285)\n",
      "\tat scala.collection.TraversableLike.map$(TraversableLike.scala:278)\n",
      "\tat scala.collection.AbstractTraversable.map(Traversable.scala:108)\n",
      "\tat org.nlogo.parse.NetLogoParser.basicParse(NetLogoParser.scala:25)\n",
      "\tat org.nlogo.parse.NetLogoParser.basicParse$(NetLogoParser.scala:15)\n",
      "\tat org.nlogo.parse.FrontEnd$.basicParse(FrontEnd.scala:10)\n",
      "\tat org.nlogo.parse.FrontEndMain.frontEnd(FrontEnd.scala:26)\n",
      "\tat org.nlogo.parse.FrontEndMain.frontEnd$(FrontEnd.scala:25)\n",
      "\tat org.nlogo.parse.FrontEnd$.frontEnd(FrontEnd.scala:10)\n",
      "\tat org.nlogo.compile.CompilerMain$.compile(CompilerMain.scala:47)\n",
      "\tat org.nlogo.compile.Compiler.compileMoreCode(Compiler.scala:85)\n",
      "\tat org.nlogo.compile.Compiler.compileMoreCode(Compiler.scala:100)\n",
      "\tat org.nlogo.workspace.Evaluator.invokeCompiler(Evaluator.scala:159)\n",
      "\tat org.nlogo.workspace.Evaluator.evaluateReporter(Evaluator.scala:28)\n",
      "\tat org.nlogo.workspace.Evaluating.report(Evaluating.scala:102)\n",
      "\tat org.nlogo.workspace.Evaluating.report$(Evaluating.scala:101)\n",
      "\tat org.nlogo.workspace.AbstractWorkspaceScala.report(AbstractWorkspaceScala.scala:26)\n",
      "\tat NetLogoLinkV61.NetLogoLink.report(NetLogoLink.java:198)\n",
      "\n"
     ]
    },
    {
     "ename": "NetLogoException",
     "evalue": "Nothing named TEST has been defined. at position 49 in ",
     "output_type": "error",
     "traceback": [
      "\u001b[0;31m---------------------------------------------------------------------------\u001b[0m",
      "\u001b[0;31mException\u001b[0m                                 Traceback (most recent call last)",
      "\u001b[0;32m~/opt/anaconda3/lib/python3.8/site-packages/_jpype.cpython-38-darwin.so\u001b[0m in \u001b[0;36mNetLogoLinkV61.NetLogoLink.report\u001b[0;34m()\u001b[0m\n",
      "\u001b[0;32m~/opt/anaconda3/lib/python3.8/site-packages/_jpype.cpython-38-darwin.so\u001b[0m in \u001b[0;36morg.nlogo.workspace.AbstractWorkspaceScala.report\u001b[0;34m()\u001b[0m\n",
      "\u001b[0;32m~/opt/anaconda3/lib/python3.8/site-packages/_jpype.cpython-38-darwin.so\u001b[0m in \u001b[0;36morg.nlogo.workspace.Evaluating.report$\u001b[0;34m()\u001b[0m\n",
      "\u001b[0;32m~/opt/anaconda3/lib/python3.8/site-packages/_jpype.cpython-38-darwin.so\u001b[0m in \u001b[0;36morg.nlogo.workspace.Evaluating.report\u001b[0;34m()\u001b[0m\n",
      "\u001b[0;32m~/opt/anaconda3/lib/python3.8/site-packages/_jpype.cpython-38-darwin.so\u001b[0m in \u001b[0;36morg.nlogo.workspace.Evaluator.evaluateReporter\u001b[0;34m()\u001b[0m\n",
      "\u001b[0;32m~/opt/anaconda3/lib/python3.8/site-packages/_jpype.cpython-38-darwin.so\u001b[0m in \u001b[0;36morg.nlogo.workspace.Evaluator.invokeCompiler\u001b[0;34m()\u001b[0m\n",
      "\u001b[0;32m~/opt/anaconda3/lib/python3.8/site-packages/_jpype.cpython-38-darwin.so\u001b[0m in \u001b[0;36morg.nlogo.compile.Compiler.compileMoreCode\u001b[0;34m()\u001b[0m\n",
      "\u001b[0;32m~/opt/anaconda3/lib/python3.8/site-packages/_jpype.cpython-38-darwin.so\u001b[0m in \u001b[0;36morg.nlogo.compile.Compiler.compileMoreCode\u001b[0;34m()\u001b[0m\n",
      "\u001b[0;32m~/opt/anaconda3/lib/python3.8/site-packages/_jpype.cpython-38-darwin.so\u001b[0m in \u001b[0;36morg.nlogo.compile.CompilerMain$.compile\u001b[0;34m()\u001b[0m\n",
      "\u001b[0;32m~/opt/anaconda3/lib/python3.8/site-packages/_jpype.cpython-38-darwin.so\u001b[0m in \u001b[0;36morg.nlogo.parse.FrontEnd$.frontEnd\u001b[0;34m()\u001b[0m\n",
      "\u001b[0;32m~/opt/anaconda3/lib/python3.8/site-packages/_jpype.cpython-38-darwin.so\u001b[0m in \u001b[0;36morg.nlogo.parse.FrontEndMain.frontEnd$\u001b[0;34m()\u001b[0m\n",
      "\u001b[0;32m~/opt/anaconda3/lib/python3.8/site-packages/_jpype.cpython-38-darwin.so\u001b[0m in \u001b[0;36morg.nlogo.parse.FrontEndMain.frontEnd\u001b[0;34m()\u001b[0m\n",
      "\u001b[0;32m~/opt/anaconda3/lib/python3.8/site-packages/_jpype.cpython-38-darwin.so\u001b[0m in \u001b[0;36morg.nlogo.parse.FrontEnd$.basicParse\u001b[0;34m()\u001b[0m\n",
      "\u001b[0;32m~/opt/anaconda3/lib/python3.8/site-packages/_jpype.cpython-38-darwin.so\u001b[0m in \u001b[0;36morg.nlogo.parse.NetLogoParser.basicParse$\u001b[0;34m()\u001b[0m\n",
      "\u001b[0;32m~/opt/anaconda3/lib/python3.8/site-packages/_jpype.cpython-38-darwin.so\u001b[0m in \u001b[0;36morg.nlogo.parse.NetLogoParser.basicParse\u001b[0;34m()\u001b[0m\n",
      "\u001b[0;32m~/opt/anaconda3/lib/python3.8/site-packages/_jpype.cpython-38-darwin.so\u001b[0m in \u001b[0;36mscala.collection.AbstractTraversable.map\u001b[0;34m()\u001b[0m\n",
      "\u001b[0;32m~/opt/anaconda3/lib/python3.8/site-packages/_jpype.cpython-38-darwin.so\u001b[0m in \u001b[0;36mscala.collection.TraversableLike.map$\u001b[0;34m()\u001b[0m\n",
      "\u001b[0;32m~/opt/anaconda3/lib/python3.8/site-packages/_jpype.cpython-38-darwin.so\u001b[0m in \u001b[0;36mscala.collection.TraversableLike.map\u001b[0;34m()\u001b[0m\n",
      "\u001b[0;32m~/opt/anaconda3/lib/python3.8/site-packages/_jpype.cpython-38-darwin.so\u001b[0m in \u001b[0;36mscala.collection.MapLike$DefaultValuesIterable.foreach\u001b[0;34m()\u001b[0m\n",
      "\u001b[0;32m~/opt/anaconda3/lib/python3.8/site-packages/_jpype.cpython-38-darwin.so\u001b[0m in \u001b[0;36mscala.collection.AbstractIterator.foreach\u001b[0;34m()\u001b[0m\n",
      "\u001b[0;32m~/opt/anaconda3/lib/python3.8/site-packages/_jpype.cpython-38-darwin.so\u001b[0m in \u001b[0;36mscala.collection.Iterator.foreach$\u001b[0;34m()\u001b[0m\n",
      "\u001b[0;32m~/opt/anaconda3/lib/python3.8/site-packages/_jpype.cpython-38-darwin.so\u001b[0m in \u001b[0;36mscala.collection.Iterator.foreach\u001b[0;34m()\u001b[0m\n",
      "\u001b[0;32m~/opt/anaconda3/lib/python3.8/site-packages/_jpype.cpython-38-darwin.so\u001b[0m in \u001b[0;36mscala.collection.TraversableLike.$anonfun$map$1\u001b[0;34m()\u001b[0m\n",
      "\u001b[0;32m~/opt/anaconda3/lib/python3.8/site-packages/_jpype.cpython-38-darwin.so\u001b[0m in \u001b[0;36morg.nlogo.parse.NetLogoParser.$anonfun$basicParse$1\u001b[0;34m()\u001b[0m\n",
      "\u001b[0;32m~/opt/anaconda3/lib/python3.8/site-packages/_jpype.cpython-38-darwin.so\u001b[0m in \u001b[0;36morg.nlogo.parse.FrontEnd$.parseProcedure\u001b[0;34m()\u001b[0m\n",
      "\u001b[0;32m~/opt/anaconda3/lib/python3.8/site-packages/_jpype.cpython-38-darwin.so\u001b[0m in \u001b[0;36morg.nlogo.parse.NetLogoParser.parseProcedure$\u001b[0;34m()\u001b[0m\n",
      "\u001b[0;32m~/opt/anaconda3/lib/python3.8/site-packages/_jpype.cpython-38-darwin.so\u001b[0m in \u001b[0;36morg.nlogo.parse.NetLogoParser.parseProcedure\u001b[0;34m()\u001b[0m\n",
      "\u001b[0;32m~/opt/anaconda3/lib/python3.8/site-packages/_jpype.cpython-38-darwin.so\u001b[0m in \u001b[0;36morg.nlogo.parse.ExpressionParser$.apply\u001b[0;34m()\u001b[0m\n",
      "\u001b[0;32m~/opt/anaconda3/lib/python3.8/site-packages/_jpype.cpython-38-darwin.so\u001b[0m in \u001b[0;36morg.nlogo.parse.ExpressionParser$.parseStatements\u001b[0;34m()\u001b[0m\n",
      "\u001b[0;32m~/opt/anaconda3/lib/python3.8/site-packages/_jpype.cpython-38-darwin.so\u001b[0m in \u001b[0;36morg.nlogo.parse.ExpressionParser$.$anonfun$apply$1\u001b[0;34m()\u001b[0m\n",
      "\u001b[0;32m~/opt/anaconda3/lib/python3.8/site-packages/_jpype.cpython-38-darwin.so\u001b[0m in \u001b[0;36morg.nlogo.parse.ExpressionParser$.parseStatement\u001b[0;34m()\u001b[0m\n",
      "\u001b[0;32m~/opt/anaconda3/lib/python3.8/site-packages/_jpype.cpython-38-darwin.so\u001b[0m in \u001b[0;36morg.nlogo.parse.ExpressionParser$.parsePotentiallyVariadicArgumentList\u001b[0;34m()\u001b[0m\n",
      "\u001b[0;32m~/opt/anaconda3/lib/python3.8/site-packages/_jpype.cpython-38-darwin.so\u001b[0m in \u001b[0;36morg.nlogo.parse.ExpressionParser$.parseArguments\u001b[0;34m()\u001b[0m\n",
      "\u001b[0;32m~/opt/anaconda3/lib/python3.8/site-packages/_jpype.cpython-38-darwin.so\u001b[0m in \u001b[0;36mscala.collection.immutable.Range.foreach\u001b[0;34m()\u001b[0m\n",
      "\u001b[0;32m~/opt/anaconda3/lib/python3.8/site-packages/_jpype.cpython-38-darwin.so\u001b[0m in \u001b[0;36morg.nlogo.parse.ExpressionParser$.$anonfun$parseArguments$1$adapted\u001b[0;34m()\u001b[0m\n",
      "\u001b[0;32m~/opt/anaconda3/lib/python3.8/site-packages/_jpype.cpython-38-darwin.so\u001b[0m in \u001b[0;36morg.nlogo.parse.ExpressionParser$.$anonfun$parseArguments$1\u001b[0;34m()\u001b[0m\n",
      "\u001b[0;32m~/opt/anaconda3/lib/python3.8/site-packages/_jpype.cpython-38-darwin.so\u001b[0m in \u001b[0;36morg.nlogo.parse.ExpressionParser$.parseArgExpression\u001b[0;34m()\u001b[0m\n",
      "\u001b[0;32m~/opt/anaconda3/lib/python3.8/site-packages/_jpype.cpython-38-darwin.so\u001b[0m in \u001b[0;36morg.nlogo.parse.ExpressionParser$.parseExpressionInternal\u001b[0;34m()\u001b[0m\n",
      "\u001b[0;32m~/opt/anaconda3/lib/python3.8/site-packages/_jpype.cpython-38-darwin.so\u001b[0m in \u001b[0;36morg.nlogo.parse.ExpressionParser$.parseParenthesized\u001b[0;34m()\u001b[0m\n",
      "\u001b[0;32m~/opt/anaconda3/lib/python3.8/site-packages/_jpype.cpython-38-darwin.so\u001b[0m in \u001b[0;36morg.nlogo.parse.ExpressionParser$.$anonfun$parseExpressionInternal$1\u001b[0;34m()\u001b[0m\n",
      "\u001b[0;32m~/opt/anaconda3/lib/python3.8/site-packages/_jpype.cpython-38-darwin.so\u001b[0m in \u001b[0;36morg.nlogo.parse.ExpressionParser$.parseExpression\u001b[0;34m()\u001b[0m\n",
      "\u001b[0;32m~/opt/anaconda3/lib/python3.8/site-packages/_jpype.cpython-38-darwin.so\u001b[0m in \u001b[0;36morg.nlogo.parse.ExpressionParser$.parseExpressionInternal\u001b[0;34m()\u001b[0m\n",
      "\u001b[0;32m~/opt/anaconda3/lib/python3.8/site-packages/_jpype.cpython-38-darwin.so\u001b[0m in \u001b[0;36mscala.Option.getOrElse\u001b[0;34m()\u001b[0m\n",
      "\u001b[0;32m~/opt/anaconda3/lib/python3.8/site-packages/_jpype.cpython-38-darwin.so\u001b[0m in \u001b[0;36morg.nlogo.parse.ExpressionParser$.$anonfun$parseExpressionInternal$4\u001b[0;34m()\u001b[0m\n",
      "\u001b[0;32m~/opt/anaconda3/lib/python3.8/site-packages/_jpype.cpython-38-darwin.so\u001b[0m in \u001b[0;36morg.nlogo.core.Fail$.exception\u001b[0;34m()\u001b[0m\n",
      "\u001b[0;32m~/opt/anaconda3/lib/python3.8/site-packages/_jpype.cpython-38-darwin.so\u001b[0m in \u001b[0;36morg.nlogo.core.Fail$.exception\u001b[0;34m()\u001b[0m\n",
      "\u001b[0;32m~/opt/anaconda3/lib/python3.8/site-packages/_jpype.cpython-38-darwin.so\u001b[0m in \u001b[0;36morg.nlogo.core.Fail$.exception\u001b[0;34m()\u001b[0m\n",
      "\u001b[0;31mException\u001b[0m: Java Exception",
      "\nThe above exception was the direct cause of the following exception:\n",
      "\u001b[0;31morg.nlogo.core.CompilerException\u001b[0m          Traceback (most recent call last)",
      "\u001b[0;32m~/Documents/GitHub/pyNetLogo/pyNetLogo/core.py\u001b[0m in \u001b[0;36mreport\u001b[0;34m(self, netlogo_reporter)\u001b[0m\n\u001b[1;32m    354\u001b[0m         \u001b[0;32mtry\u001b[0m\u001b[0;34m:\u001b[0m\u001b[0;34m\u001b[0m\u001b[0;34m\u001b[0m\u001b[0m\n\u001b[0;32m--> 355\u001b[0;31m             \u001b[0mresult\u001b[0m \u001b[0;34m=\u001b[0m \u001b[0mself\u001b[0m\u001b[0;34m.\u001b[0m\u001b[0mlink\u001b[0m\u001b[0;34m.\u001b[0m\u001b[0mreport\u001b[0m\u001b[0;34m(\u001b[0m\u001b[0mnetlogo_reporter\u001b[0m\u001b[0;34m)\u001b[0m\u001b[0;34m\u001b[0m\u001b[0;34m\u001b[0m\u001b[0m\n\u001b[0m\u001b[1;32m    356\u001b[0m             \u001b[0;32mreturn\u001b[0m \u001b[0mself\u001b[0m\u001b[0;34m.\u001b[0m\u001b[0m_cast_results\u001b[0m\u001b[0;34m(\u001b[0m\u001b[0mresult\u001b[0m\u001b[0;34m)\u001b[0m\u001b[0;34m\u001b[0m\u001b[0;34m\u001b[0m\u001b[0m\n",
      "\u001b[0;31morg.nlogo.core.CompilerException\u001b[0m: Nothing named TEST has been defined. at position 49 in ",
      "\nDuring handling of the above exception, another exception occurred:\n",
      "\u001b[0;31mNetLogoException\u001b[0m                          Traceback (most recent call last)",
      "\u001b[0;32m<ipython-input-4-7261b8fd9d69>\u001b[0m in \u001b[0;36m<module>\u001b[0;34m\u001b[0m\n\u001b[0;32m----> 1\u001b[0;31m \u001b[0mnetlogo\u001b[0m\u001b[0;34m.\u001b[0m\u001b[0mreport\u001b[0m\u001b[0;34m(\u001b[0m\u001b[0;34m\"test\"\u001b[0m\u001b[0;34m)\u001b[0m\u001b[0;34m\u001b[0m\u001b[0;34m\u001b[0m\u001b[0m\n\u001b[0m",
      "\u001b[0;32m~/Documents/GitHub/pyNetLogo/pyNetLogo/core.py\u001b[0m in \u001b[0;36mreport\u001b[0;34m(self, netlogo_reporter)\u001b[0m\n\u001b[1;32m    357\u001b[0m         \u001b[0;32mexcept\u001b[0m \u001b[0mjpype\u001b[0m\u001b[0;34m.\u001b[0m\u001b[0mJException\u001b[0m \u001b[0;32mas\u001b[0m \u001b[0mex\u001b[0m\u001b[0;34m:\u001b[0m\u001b[0;34m\u001b[0m\u001b[0;34m\u001b[0m\u001b[0m\n\u001b[1;32m    358\u001b[0m             \u001b[0mprint\u001b[0m\u001b[0;34m(\u001b[0m\u001b[0mex\u001b[0m\u001b[0;34m.\u001b[0m\u001b[0mstacktrace\u001b[0m\u001b[0;34m(\u001b[0m\u001b[0;34m)\u001b[0m\u001b[0;34m)\u001b[0m\u001b[0;34m\u001b[0m\u001b[0;34m\u001b[0m\u001b[0m\n\u001b[0;32m--> 359\u001b[0;31m             \u001b[0;32mraise\u001b[0m \u001b[0mNetLogoException\u001b[0m\u001b[0;34m(\u001b[0m\u001b[0mstr\u001b[0m\u001b[0;34m(\u001b[0m\u001b[0mex\u001b[0m\u001b[0;34m)\u001b[0m\u001b[0;34m)\u001b[0m\u001b[0;34m\u001b[0m\u001b[0;34m\u001b[0m\u001b[0m\n\u001b[0m\u001b[1;32m    360\u001b[0m \u001b[0;34m\u001b[0m\u001b[0m\n\u001b[1;32m    361\u001b[0m     def report_while(self, netlogo_reporter, condition, command='go',\n",
      "\u001b[0;31mNetLogoException\u001b[0m: Nothing named TEST has been defined. at position 49 in "
     ]
    }
   ],
   "source": [
    "netlogo.report(\"test\")"
   ]
  },
  {
   "cell_type": "code",
   "execution_count": null,
   "id": "58ad4d97-c505-4622-884b-d7d3ec594e34",
   "metadata": {},
   "outputs": [],
   "source": []
  }
 ],
 "metadata": {
  "kernelspec": {
   "display_name": "Python 3",
   "language": "python",
   "name": "python3"
  },
  "language_info": {
   "codemirror_mode": {
    "name": "ipython",
    "version": 3
   },
   "file_extension": ".py",
   "mimetype": "text/x-python",
   "name": "python",
   "nbconvert_exporter": "python",
   "pygments_lexer": "ipython3",
   "version": "3.8.5"
  }
 },
 "nbformat": 4,
 "nbformat_minor": 5
}
